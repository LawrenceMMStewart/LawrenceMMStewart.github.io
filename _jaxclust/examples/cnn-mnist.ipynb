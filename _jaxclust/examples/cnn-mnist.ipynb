{
 "cells": [
  {
   "cell_type": "markdown",
   "metadata": {},
   "source": [
    "# Training a CNN on MNIST with the Partial Fenchel-Young Loss"
   ]
  },
  {
   "cell_type": "markdown",
   "metadata": {},
   "source": [
    "In this example we will train a simple Conv Net on MNIST data using `jaxclust`. We will use:\n",
    "\n",
    "- `jaxclust`: for differentiable clustering methods.\n",
    "- `flax`: for our neural network class and train state.\n",
    "- `optax`: for the optimizer to train our network.\n",
    "- `tensorflow-datasets`: to access MNIST."
   ]
  },
  {
   "cell_type": "code",
   "execution_count": 3,
   "metadata": {},
   "outputs": [],
   "source": [
    "import sys\n",
    "sys.path.append('../..')\n",
    "\n",
    "import jax\n",
    "import numpy as np\n",
    "import jax.numpy as jnp\n",
    "from typing import Callable, Tuple, Any\n",
    "import tensorflow as tf\n",
    "import jaxclust\n",
    "import optax\n",
    "import flax.linen as nn\n",
    "from flax import core, struct\n",
    "from flax.training import train_state\n",
    "import optax\n",
    "from functools import partial\n",
    "import tqdm\n",
    "import matplotlib.cm as cm\n",
    "import matplotlib.pyplot as plt\n",
    "\n",
    "np.random.seed(0)\n",
    "# Ensure TF does not see GPU and grab all GPU memory.\n",
    "tf.config.set_visible_devices([], device_type='GPU')"
   ]
  },
  {
   "cell_type": "markdown",
   "metadata": {},
   "source": [
    "### Data loader and Model"
   ]
  },
  {
   "cell_type": "markdown",
   "metadata": {},
   "source": [
    "- Using `tensorflow-datasets` we can load the train split of MNIST. \n",
    "- The function `process_nist_batch` reshapes the data to the shape required for LeNET5, as well as renormalizing the data and creating a **one-hot** representation of the labels.\n",
    "- The function `next_train` takes an iterator and returns a batch $(x, y)$, and the iterator (and creates a new iterator if we reach the end of the current one)."
   ]
  },
  {
   "cell_type": "code",
   "execution_count": 4,
   "metadata": {},
   "outputs": [
    {
     "name": "stderr",
     "output_type": "stream",
     "text": [
      "2023-10-16 16:45:17.766694: W tensorflow/core/platform/cloud/google_auth_provider.cc:184] All attempts to get a Google authentication bearer token failed, returning an empty token. Retrieving token from files failed with \"NOT_FOUND: Could not locate the credentials file.\". Retrieving token from GCE failed with \"FAILED_PRECONDITION: Error executing an HTTP request: libcurl code 6 meaning 'Couldn't resolve host name', error details: Could not resolve host: metadata\".\n"
     ]
    },
    {
     "name": "stdout",
     "output_type": "stream",
     "text": [
      "\u001b[1mDownloading and preparing dataset 11.06 MiB (download: 11.06 MiB, generated: 21.00 MiB, total: 32.06 MiB) to /tmp/tfds/mnist/3.0.1...\u001b[0m\n"
     ]
    },
    {
     "data": {
      "application/vnd.jupyter.widget-view+json": {
       "model_id": "624da6716acb41e98157540999d6b868",
       "version_major": 2,
       "version_minor": 0
      },
      "text/plain": [
       "Dl Completed...:   0%|          | 0/5 [00:00<?, ? file/s]"
      ]
     },
     "metadata": {},
     "output_type": "display_data"
    },
    {
     "name": "stdout",
     "output_type": "stream",
     "text": [
      "\u001b[1mDataset mnist downloaded and prepared to /tmp/tfds/mnist/3.0.1. Subsequent calls will reuse this data.\u001b[0m\n"
     ]
    },
    {
     "name": "stderr",
     "output_type": "stream",
     "text": [
      "2023-10-16 16:45:21.276731: W tensorflow/core/platform/profile_utils/cpu_utils.cc:128] Failed to get CPU frequency: 0 Hz\n"
     ]
    }
   ],
   "source": [
    "import tensorflow_datasets as tfds\n",
    "DSHAPE = (28, 28, 1) # shape of an image for CNN\n",
    "BS = 32\n",
    "DATA_DIR = '/tmp/tfds'\n",
    "\n",
    "@jax.jit\n",
    "def process_nist_batch(x, y):\n",
    "    x = x.reshape((len(x), ) + DSHAPE)\n",
    "    x = x / 255.\n",
    "    yhot = jax.nn.one_hot(y, 10)\n",
    "    return x, yhot\n",
    "\n",
    "DS_TRAIN = tfds.load(name='mnist', batch_size=-1, data_dir=DATA_DIR, split='train', as_supervised=True)\n",
    "DS_TRAIN = tf.data.Dataset.from_tensor_slices(DS_TRAIN).shuffle(buffer_size=60000, seed=0, reshuffle_each_iteration=True)\n",
    "DS_TRAIN = DS_TRAIN.batch(batch_size=BS)\n",
    "train_iterator = iter(tfds.as_numpy(DS_TRAIN))\n",
    "\n",
    "\n",
    "def next_train(train_iterator):\n",
    "    try:\n",
    "        (x, y)= next(train_iterator)\n",
    "        if x.shape[0] != BS:\n",
    "            train_iterator = iter(tfds.as_numpy(DS_TRAIN))\n",
    "            (x, y) = next(train_iterator)\n",
    "    except StopIteration:\n",
    "        train_iterator = iter(tfds.as_numpy(DS_TRAIN))\n",
    "        (x, y)= next(train_iterator)\n",
    "    \n",
    "    x, y = process_nist_batch(x, y)\n",
    "    return (x, y), train_iterator\n",
    "\n"
   ]
  },
  {
   "cell_type": "markdown",
   "metadata": {},
   "source": [
    "We begin by creating a simple CNN model in flax (this will be the model used to create our embeddings):"
   ]
  },
  {
   "cell_type": "code",
   "execution_count": 5,
   "metadata": {},
   "outputs": [],
   "source": [
    "class CNN(nn.Module):\n",
    "    \"\"\"A simple CNN model.\"\"\"\n",
    "    dense1: int = 256 # size of dense layer\n",
    "    dense2 : int = 256 # size of output layer\n",
    "\n",
    "    @nn.compact\n",
    "    def __call__(self, x, training=True):\n",
    "        x = nn.Conv(features=32, kernel_size=(3, 3))(x)\n",
    "        x = nn.relu(x)\n",
    "        x = nn.avg_pool(x, window_shape=(2, 2), strides=(2, 2))\n",
    "        x = nn.Conv(features=64, kernel_size=(3, 3))(x)\n",
    "        x = nn.relu(x)\n",
    "        x = nn.avg_pool(x, window_shape=(2, 2), strides=(2, 2))\n",
    "        x = x.reshape((x.shape[0], -1))  # flatten\n",
    "        x = nn.Dense(features=self.dense1)(x)\n",
    "        x = nn.relu(x)\n",
    "        x = nn.Dense(features=self.dense2)(x)\n",
    "        return x\n"
   ]
  },
  {
   "cell_type": "markdown",
   "metadata": {},
   "source": [
    "### Implementing Differentiable Clustering with JAXClust"
   ]
  },
  {
   "cell_type": "markdown",
   "metadata": {},
   "source": [
    "Firstly we need to define a similarity measure. There are many choices one could take, but for now lets keep it simple and use the negative Euclidean square distance:\n",
    "\n",
    "$$\\Sigma_{i,j} = - \\|x_i-x_j\\|_2^2.$$\n",
    "\n",
    "\n",
    "To calculate $\\Sigma$ we will write the function `pairwise_square_distance` using jax:"
   ]
  },
  {
   "cell_type": "code",
   "execution_count": 6,
   "metadata": {},
   "outputs": [],
   "source": [
    "def pairwise_square_distance(X):\n",
    "    \"\"\"\n",
    "    euclidean pairwise square distance between data points\n",
    "    \"\"\"\n",
    "    n = X.shape[0]\n",
    "    G = jnp.dot(X, X.T)\n",
    "    g = jnp.diag(G).reshape(n, 1)\n",
    "    o = jnp.ones_like(g)\n",
    "    return jnp.dot(g, o.T) + jnp.dot(o, g.T) - 2 * G\n"
   ]
  },
  {
   "cell_type": "markdown",
   "metadata": {},
   "source": [
    "Given a similarity matrix $\\Sigma$ and a number of connected components $k$, we recall the maximum weight k-connected-component forest problem:\n",
    "\n",
    "$$A_k^*(\\Sigma) = \\text{argmax}_{A \\in \\mathcal{C}_k} \\langle A, \\Sigma \\rangle.$$\n",
    "\n",
    "where $A_k^*(\\Sigma)$ is the adjacency matrix for the maximum weight k-connected-component forest, and $\\mathcal{C}_k$ is the set of adjacency matrices which correspond to k-connected-component forests.\n",
    "\n",
    "The maxmium weight k-connected-component forest will have weight:\n",
    "\n",
    "$$F_k^*(\\Sigma) =  \\text{max}_{A \\in \\mathcal{C}_k} \\langle A, \\Sigma \\rangle = \\langle A_k^*(\\Sigma), \\Sigma \\rangle.$$\n",
    "\n",
    "\n",
    "\n",
    "To obtain a solver for this we can use `jaxclust.solvers`:\n"
   ]
  },
  {
   "cell_type": "code",
   "execution_count": 7,
   "metadata": {},
   "outputs": [],
   "source": [
    "# flp = forest linear program\n",
    "solver = jaxclust.solvers.get_flp_solver(constrained=False, use_prims=True)"
   ]
  },
  {
   "cell_type": "markdown",
   "metadata": {},
   "source": [
    "Since `constrained = False`, the function `solver` will take in two arguments `Sigma` and `ncc` (the number of connected components), and returns $A^*(\\Sigma)$ and $M^*(\\Sigma)$. Recall that $M_k^*(\\Sigma)_{ij} = 1$ if points $i$ and $j$ are in the same connected component / cluster otherwise $0$. Let's try it out on some randomly generated data:"
   ]
  },
  {
   "cell_type": "code",
   "execution_count": 8,
   "metadata": {},
   "outputs": [
    {
     "data": {
      "text/plain": [
       "Text(0.5, 1.0, '$M_{10}^*(\\\\Sigma)$')"
      ]
     },
     "execution_count": 8,
     "metadata": {},
     "output_type": "execute_result"
    },
    {
     "data": {
      "image/png": "[encoded data removed]",
      "text/plain": [
       "<Figure size 432x288 with 2 Axes>"
      ]
     },
     "metadata": {
      "needs_background": "light"
     },
     "output_type": "display_data"
    }
   ],
   "source": [
    "X = np.random.randn(BS, 3) # sample a batch of 3D data\n",
    "S = - pairwise_square_distance(X) # calculate Sigma\n",
    "A, M = solver(S, 10) # call the solver\n",
    "\n",
    "fig, axs = plt.subplots(1, 2)\n",
    "axs[0].imshow(A)\n",
    "axs[1].imshow(M)\n",
    "axs[0].set_title(r'$A_{10}(\\Sigma)$')\n",
    "axs[1].set_title(r'$M_{10}^*(\\Sigma)$')\n"
   ]
  },
  {
   "cell_type": "markdown",
   "metadata": {
    "vscode": {
     "languageId": "plaintext"
    }
   },
   "source": [
    "Similar using `jaxclust.solvers` we can call the function `get_flp_solver` but with `constrained=True` to obtain a solver that takes in partial cluster coincidence information.\n",
    "\n",
    " $$A_k^*(\\Sigma, M_\\Omega) = \\text{argmax}_{A \\in \\mathcal{C}_k(M_\\Omega)} \\langle A, \\Sigma \\rangle\\, $$\n",
    "\n",
    "In the paper $M_\\Omega$ takes values in $\\{0, 1, *\\}$. \n",
    "\n",
    "For clarity, jaxclust takes the constraints in the form of a matrix $C$ where:\n",
    "\n",
    "- $C_{ij}=1$ implies a **must-link** constraint.\n",
    "- $C_{ij}=-1$ implies a **must-not-link** constraint.\n",
    "- $C_{ij}=0$ implies no constraint.\n",
    "\n",
    "(Non-important note: if denote $*=0.5$, then $C = 2 * M_\\Omega - 1$).\n",
    "\n",
    "Once again we can call `get_flp_solver` to obtain a solver, but this time using the `constrained=True` kwarg:\n"
   ]
  },
  {
   "cell_type": "code",
   "execution_count": 9,
   "metadata": {},
   "outputs": [],
   "source": [
    "csolver = jaxclust.solvers.get_flp_solver(constrained=True, use_prims=True)"
   ]
  },
  {
   "cell_type": "markdown",
   "metadata": {},
   "source": [
    "Now we have a unconstrained solver `solver`, and a constrained solver `csolver`, we can use the `jaxclust.perturbations` module to create their smooth proxies in order to obtain gradients for training.\n",
    "\n",
    "The perturbed proxies are defined as:\n",
    "\n",
    "$$A_{k,\\epsilon}^*(\\Sigma) = \\mathbb{E}_Z\\left[\\text{argmax}_{A \\in \\mathcal{C}_k} \\langle A, \\Sigma + \\epsilon Z \\rangle\\right].$$\n",
    "\n",
    "\n",
    " $$A_{k,\\epsilon}^*(\\Sigma, M_\\Omega) =\\mathbb{E}_Z\\left[ \\text{argmax}_{A \\in \\mathcal{C}_k(M_\\Omega)} \\langle A, \\Sigma + \\epsilon Z\\rangle\\, \\right]. $$\n",
    "\n",
    "$$F_{k,\\epsilon}^*(\\Sigma) = \\mathbb{E}_Z\\left[\\text{max}_{A \\in \\mathcal{C}_k} \\langle A, \\Sigma + \\epsilon Z \\rangle\\right].$$\n",
    "\n",
    " $$F_{k,\\epsilon}^*(\\Sigma, M_\\Omega) =\\mathbb{E}_Z\\left[ \\text{max}_{A \\in \\mathcal{C}_k(M_\\Omega)} \\langle A, \\Sigma + \\epsilon Z\\rangle\\, \\right]. $$\n",
    "\n",
    "\n",
    "\n",
    "We can obtain a solver that returns $(A^*_{k,\\epsilon} , F^*_{k, \\epsilon}, M^*_{k, \\epsilon})$ by using the function `make_pert_flp_solver` found in the `jaxclust.perturbations` module, for both constrained and unconstrained solvers:\n"
   ]
  },
  {
   "cell_type": "code",
   "execution_count": 10,
   "metadata": {},
   "outputs": [],
   "source": [
    "NUM_SAMPLES = 100\n",
    "SIGMA = 0.1\n",
    "\n",
    "pert_solver = jaxclust.perturbations.make_pert_flp_solver(solver,\n",
    "                                                          constrained=False,\n",
    "                                                          num_samples=NUM_SAMPLES,\n",
    "                                                          sigma=SIGMA)\n",
    "\n",
    "pert_csolver = jaxclust.perturbations.make_pert_flp_solver(csolver,\n",
    "                                                           constrained=True,\n",
    "                                                           num_samples=NUM_SAMPLES,\n",
    "                                                           sigma=SIGMA)\n",
    "\n"
   ]
  },
  {
   "cell_type": "markdown",
   "metadata": {},
   "source": [
    "We can now implement the whole differentiable clustering pipeline as a `flax.linen.Module`.\n",
    "\n",
    "We define a dataclass called `DC` (differentiable clustering), which takes in:\n",
    "\n",
    "- `backbone` : This will be the model used to produce the embeddings, say for example our CNN we previously define.\n",
    "- `pert_solver` : The unconstrained perturbed solver.\n",
    "- `pert_csolver` : The constrained perturbed solver.\n",
    "\n",
    "The forward pass calculates the Partial Fenchel-Young loss:\n",
    "\n",
    "$\\ell(\\Sigma, M_\\Omega) = F_{k,\\epsilon}^*(\\Sigma) - F_{k,\\epsilon}^*(\\Sigma, M_\\Omega)$\n",
    "\n",
    "whose gradient will be $\\nabla_\\Sigma \\ell = A_{k, \\epsilon}^*(\\Sigma) - A_{k, \\epsilon}^*(\\Sigma, M_\\Omega)$:"
   ]
  },
  {
   "cell_type": "code",
   "execution_count": 11,
   "metadata": {},
   "outputs": [],
   "source": [
    "class DC(nn.Module):\n",
    "    '''\n",
    "    supervised differentiable clustering\n",
    "    '''\n",
    "    backbone : nn.Module # model backbone used to create embeddings\n",
    "    pert_solver : Callable # perturbed clustering\n",
    "    pert_csolver : Callable # perturbed constrained clustering\n",
    "\n",
    "    # call is equivalent to embedding the data\n",
    "    @nn.compact\n",
    "    def __call__(self, *args, **kwargs):\n",
    "        return self.backbone(*args, **kwargs)\n",
    "\n",
    "    def similarity(self, Z):\n",
    "        S =  -pairwise_square_distance(Z)\n",
    "        # standardizing reduces dependence of sigma on x\n",
    "        S = (S - S.mean()) / S.std()\n",
    "        return S\n",
    "\n",
    "    def forward(self, x, yhot, ncc, key, training=True):\n",
    "        Z = self.__call__(x, training=training)\n",
    "        S = self.similarity(Z)\n",
    "        M_target = yhot @ yhot.T\n",
    "        C = 2 * M_target - 1\n",
    "\n",
    "        Ak, Fk, Mk = self.pert_solver(S, ncc, key)\n",
    "        Akc, Fkc, Mkc = self.pert_csolver(S, ncc, C, key)\n",
    "\n",
    "        partial_fy_loss = Fk - Fkc\n",
    "        return partial_fy_loss\n"
   ]
  },
  {
   "cell_type": "markdown",
   "metadata": {},
   "source": [
    "In line with `flax`, we will define a train state which encapsulates all parameters (model and optimizer) and methods required for training / evaluation:"
   ]
  },
  {
   "cell_type": "code",
   "execution_count": 12,
   "metadata": {},
   "outputs": [],
   "source": [
    "class DCTrainState(struct.PyTreeNode):\n",
    "    step: int\n",
    "    apply_fn: Callable = struct.field(pytree_node=False)\n",
    "    forward_fn: Callable = struct.field(pytree_node=False)\n",
    "    params: core.FrozenDict[str, Any] = struct.field(pytree_node=True)\n",
    "    tx: optax.GradientTransformation = struct.field(pytree_node=False)\n",
    "    opt_state: optax.OptState = struct.field(pytree_node=True)\n",
    "\n",
    "    def apply_gradients(self, *, grads, **kwargs):\n",
    "        updates, new_opt_state = self.tx.update(\n",
    "            grads, self.opt_state, self.params)\n",
    "        new_params = optax.apply_updates(self.params, updates)\n",
    "        return self.replace(\n",
    "            step=self.step + 1,\n",
    "            params=new_params,\n",
    "            opt_state=new_opt_state,\n",
    "            **kwargs,\n",
    "        )\n",
    "\n",
    "    @classmethod\n",
    "    def create(cls, *, apply_fn, forward_fn, params, tx, **kwargs):\n",
    "        opt_state = tx.init(params)\n",
    "        return cls(\n",
    "            step=0,\n",
    "            apply_fn=apply_fn,\n",
    "            forward_fn=partial(apply_fn, method=forward_fn),\n",
    "            params=params,\n",
    "            tx=tx,\n",
    "            opt_state=opt_state,\n",
    "            **kwargs,\n",
    "        )"
   ]
  },
  {
   "cell_type": "markdown",
   "metadata": {},
   "source": [
    "Let us instantiate our model and optimizer:"
   ]
  },
  {
   "cell_type": "code",
   "execution_count": 13,
   "metadata": {},
   "outputs": [],
   "source": [
    "optimizer = optax.adamw(3e-4, weight_decay=1e-4)\n",
    "\n",
    "model = DC(\n",
    "    CNN(),\n",
    "    pert_solver=pert_solver,\n",
    "    pert_csolver=pert_csolver)"
   ]
  },
  {
   "cell_type": "code",
   "execution_count": 14,
   "metadata": {},
   "outputs": [],
   "source": [
    "dummy_x = jnp.ones((BS, ) + (DSHAPE))\n",
    "params = model.init({'params' : jax.random.PRNGKey(0)}, dummy_x, training=True)['params']\n"
   ]
  },
  {
   "cell_type": "code",
   "execution_count": 15,
   "metadata": {},
   "outputs": [
    {
     "name": "stdout",
     "output_type": "stream",
     "text": [
      "+-------------------------+----------------+---------+-----------+--------+\n",
      "| Name                    | Shape          | Size    | Mean      | Std    |\n",
      "+-------------------------+----------------+---------+-----------+--------+\n",
      "| backbone/Conv_0/bias    | (32,)          | 32      | 0.0       | 0.0    |\n",
      "| backbone/Conv_0/kernel  | (3, 3, 1, 32)  | 288     | 0.0223    | 0.342  |\n",
      "| backbone/Conv_1/bias    | (64,)          | 64      | 0.0       | 0.0    |\n",
      "| backbone/Conv_1/kernel  | (3, 3, 32, 64) | 18,432  | -0.000226 | 0.0587 |\n",
      "| backbone/Dense_0/bias   | (256,)         | 256     | 0.0       | 0.0    |\n",
      "| backbone/Dense_0/kernel | (3136, 256)    | 802,816 | -1.17e-05 | 0.0178 |\n",
      "| backbone/Dense_1/bias   | (256,)         | 256     | 0.0       | 0.0    |\n",
      "| backbone/Dense_1/kernel | (256, 256)     | 65,536  | -9.22e-05 | 0.0625 |\n",
      "+-------------------------+----------------+---------+-----------+--------+\n",
      "Total: 887,680\n"
     ]
    }
   ],
   "source": [
    "from clu import parameter_overview\n",
    "print(parameter_overview.get_parameter_overview(params))\n"
   ]
  },
  {
   "cell_type": "code",
   "execution_count": 16,
   "metadata": {},
   "outputs": [],
   "source": [
    "state = DCTrainState.create(\n",
    "    apply_fn=model.apply,\n",
    "    forward_fn=model.forward,\n",
    "    params = params,\n",
    "    tx = optimizer\n",
    ")"
   ]
  },
  {
   "cell_type": "markdown",
   "metadata": {},
   "source": [
    "We can now make a function that performs a single training step given a batch of data. This is `jax.jit` compatible."
   ]
  },
  {
   "cell_type": "code",
   "execution_count": 17,
   "metadata": {},
   "outputs": [],
   "source": [
    "@jax.jit\n",
    "def train_step_fn(state, X, Yhot, ncc, rngs):\n",
    "    def forward(params, X, Yhot, ncc, rngs):\n",
    "        return state.forward_fn({'params' : params}, X, Yhot, ncc, rngs['noise'], True, rngs=rngs)\n",
    "    loss, grads = jax.value_and_grad(forward)(state.params, X, Yhot, ncc, rngs)\n",
    "    state = state.apply_gradients(grads=grads)\n",
    "    return state, loss, grads"
   ]
  },
  {
   "cell_type": "markdown",
   "metadata": {},
   "source": [
    "We can use the above function to perform a training loop in just a few lines of code:"
   ]
  },
  {
   "cell_type": "code",
   "execution_count": 18,
   "metadata": {},
   "outputs": [
    {
     "name": "stderr",
     "output_type": "stream",
     "text": [
      "100%|██████████| 300/300 [00:49<00:00,  6.03it/s]\n"
     ]
    }
   ],
   "source": [
    "NSTEPS = 300\n",
    "rngs = {'noise' : jax.random.PRNGKey(0)}\n",
    "\n",
    "losses = []\n",
    "for i in tqdm.tqdm(range(NSTEPS)):\n",
    "      rngs = {k : jax.random.fold_in(v, i) for (k, v) in rngs.items()}\n",
    "      (X, Yhot), train_iterator = next_train(train_iterator)\n",
    "      state, pl, grads = train_step_fn(state, X, Yhot, 10, rngs)\n",
    "      losses.append(pl.item())\n"
   ]
  },
  {
   "cell_type": "markdown",
   "metadata": {},
   "source": [
    "Plotting the partial Fenchel-Young loss throughout training with and without smoothing:"
   ]
  },
  {
   "cell_type": "code",
   "execution_count": 19,
   "metadata": {},
   "outputs": [
    {
     "data": {
      "text/plain": [
       "Text(0, 0.5, 'Partial FY Loss')"
      ]
     },
     "execution_count": 19,
     "metadata": {},
     "output_type": "execute_result"
    },
    {
     "data": {
      "image/png": "[encoded data removed]",
      "text/plain": [
       "<Figure size 432x288 with 1 Axes>"
      ]
     },
     "metadata": {
      "needs_background": "light"
     },
     "output_type": "display_data"
    }
   ],
   "source": [
    "import matplotlib.pyplot as plt\n",
    "def moving_average(x, w):\n",
    "    return np.convolve(x, np.ones(w), 'valid') / w\n",
    "\n",
    "plt.plot(moving_average(losses, 10), color='g', label='moving average')\n",
    "plt.plot(losses, color='b', alpha=0.2, label='raw')\n",
    "plt.xlabel('step')\n",
    "plt.ylabel('Partial FY Loss')\n"
   ]
  },
  {
   "cell_type": "markdown",
   "metadata": {},
   "source": [
    "Perform a tSNE visualization of the model embeddings for some of the dataset:"
   ]
  },
  {
   "cell_type": "code",
   "execution_count": 20,
   "metadata": {},
   "outputs": [],
   "source": [
    "NTSNE = 3000\n",
    "X, Y = tfds.load(name='mnist', batch_size=-1, data_dir=DATA_DIR, split='train', as_supervised=True)\n",
    "X = np.array(X)\n",
    "Y = np.array(Y)\n",
    "\n",
    "X = X[:NTSNE].reshape(-1, 28, 28, 1) / 255.0\n",
    "Y = Y[:NTSNE].astype('int')"
   ]
  },
  {
   "cell_type": "code",
   "execution_count": 21,
   "metadata": {},
   "outputs": [
    {
     "name": "stderr",
     "output_type": "stream",
     "text": [
      "/Users/lawrencestewart/miniconda3/envs/m1/lib/python3.9/site-packages/sklearn/manifold/_t_sne.py:795: FutureWarning: The default initialization in TSNE will change from 'random' to 'pca' in 1.2.\n",
      "  warnings.warn(\n",
      "/Users/lawrencestewart/miniconda3/envs/m1/lib/python3.9/site-packages/sklearn/manifold/_t_sne.py:805: FutureWarning: The default learning rate in TSNE will change from 200.0 to 'auto' in 1.2.\n",
      "  warnings.warn(\n"
     ]
    }
   ],
   "source": [
    "from sklearn.manifold import TSNE\n",
    "V = state.apply_fn({'params' : state.params}, X)\n",
    "tsne = TSNE(n_components=2).fit_transform(V)\n"
   ]
  },
  {
   "cell_type": "code",
   "execution_count": 22,
   "metadata": {},
   "outputs": [
    {
     "data": {
      "text/plain": [
       "([], [])"
      ]
     },
     "execution_count": 22,
     "metadata": {},
     "output_type": "execute_result"
    },
    {
     "data": {
      "image/png": "[encoded data removed]",
      "text/plain": [
       "<Figure size 432x288 with 1 Axes>"
      ]
     },
     "metadata": {},
     "output_type": "display_data"
    }
   ],
   "source": [
    "TSNE_COLORS = [\n",
    "    '#a6cee3','#1f78b4','#b2df8a','#33a02c','#fb9a99','#e31a1c','#fdbf6f',\n",
    "    '#ff7f00','#cab2d6','#6a3d9a',\n",
    "]\n",
    "\n",
    "color_map = np.array([TSNE_COLORS[i] for i in range(10)])\n",
    "\n",
    "plt.scatter(tsne[:, 0], tsne[:, 1], color=color_map[Y], marker='.', alpha=0.4)\n",
    "plt.title(f'tSNE of {NTSNE} MNIST data embeddings')\n",
    "plt.xticks([])\n",
    "plt.yticks([])"
   ]
  },
  {
   "cell_type": "markdown",
   "metadata": {},
   "source": [
    "The differentiable clustering methodology comes from the following paper:\n",
    "\n",
    "**[Stewart et al. 2023]** -  Differentiable Clustering with Perturbed Random Forests, *Advances in Neural Information Processing Systems 2023.*\n",
    "\n"
   ]
  }
 ],
 "metadata": {
  "kernelspec": {
   "display_name": "m1",
   "language": "python",
   "name": "python3"
  },
  "language_info": {
   "codemirror_mode": {
    "name": "ipython",
    "version": 3
   },
   "file_extension": ".py",
   "mimetype": "text/x-python",
   "name": "python",
   "nbconvert_exporter": "python",
   "pygments_lexer": "ipython3",
   "version": "3.9.13"
  }
 },
 "nbformat": 4,
 "nbformat_minor": 2
}
